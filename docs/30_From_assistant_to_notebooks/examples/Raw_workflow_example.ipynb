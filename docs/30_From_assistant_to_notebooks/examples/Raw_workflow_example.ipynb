{
 "cells": [
  {
   "cell_type": "code",
   "execution_count": null,
   "id": "ad0c1e6d",
   "metadata": {},
   "outputs": [],
   "source": [
    "from skimage.io import imread\n",
    "import pyclesperanto_prototype as cle  # version 0.19.3\n",
    "import napari_simpleitk_image_processing as nsitk  # version 0.4.4\n",
    "import napari\n",
    "viewer = napari.Viewer()"
   ]
  },
  {
   "cell_type": "markdown",
   "id": "3473696e",
   "metadata": {},
   "source": [
    "## Loading 'Image:0'"
   ]
  },
  {
   "cell_type": "code",
   "execution_count": null,
   "id": "ff171e10",
   "metadata": {
    "lines_to_next_cell": 2
   },
   "outputs": [],
   "source": [
    "image0_I = imread(\n",
    "    \"/Users/korten/Documents/workspace/Pasteur-NEUBIAS-training-school-on-Bioimage-Analysis/data/BBBC007_batch/17P1_POS0013_D_1UL.tif\")\n",
    "viewer.add_image(image0_I, name='Image:0')\n",
    "napari.utils.nbscreenshot(viewer)"
   ]
  },
  {
   "cell_type": "markdown",
   "id": "f74c2b26",
   "metadata": {},
   "source": [
    "## gaussian blur"
   ]
  },
  {
   "cell_type": "code",
   "execution_count": null,
   "id": "08e8b4ce",
   "metadata": {},
   "outputs": [],
   "source": [
    "image1_gb = cle.gaussian_blur(image0_I, None, 1.0, 1.0, 0.0)\n",
    "viewer.add_image(image1_gb, name='Result of gaussian_blur (clesperanto)')\n",
    "napari.utils.nbscreenshot(viewer)"
   ]
  },
  {
   "cell_type": "markdown",
   "id": "ed88a5ba",
   "metadata": {},
   "source": [
    "## top hat box"
   ]
  },
  {
   "cell_type": "code",
   "execution_count": null,
   "id": "97c5bc26",
   "metadata": {},
   "outputs": [],
   "source": [
    "image2_thb = cle.top_hat_box(image1_gb, None, 10.0, 10.0, 0.0)\n",
    "viewer.add_image(image2_thb, name='Result of top_hat_box (clesperanto)')\n",
    "napari.utils.nbscreenshot(viewer)"
   ]
  },
  {
   "cell_type": "markdown",
   "id": "d3e9c91e",
   "metadata": {},
   "source": [
    "## threshold otsu"
   ]
  },
  {
   "cell_type": "code",
   "execution_count": null,
   "id": "f7509618",
   "metadata": {},
   "outputs": [],
   "source": [
    "image3_to = cle.threshold_otsu(image2_thb)\n",
    "viewer.add_labels(image3_to, name='Result of threshold_otsu (clesperanto)')\n",
    "napari.utils.nbscreenshot(viewer)"
   ]
  },
  {
   "cell_type": "markdown",
   "id": "2f0007a0",
   "metadata": {},
   "source": [
    "## touching objects labeling"
   ]
  },
  {
   "cell_type": "code",
   "execution_count": null,
   "id": "c8b4dc9c",
   "metadata": {},
   "outputs": [],
   "source": [
    "image4_T = nsitk.touching_objects_labeling(image3_to)\n",
    "viewer.add_labels(\n",
    "    image4_T, name='Result of Touching objects labeling (n-SimpleITK)')\n",
    "napari.utils.nbscreenshot(viewer)"
   ]
  }
 ],
 "metadata": {
  "jupytext": {
   "cell_metadata_filter": "-all",
   "main_language": "python",
   "notebook_metadata_filter": "-all"
  }
 },
 "nbformat": 4,
 "nbformat_minor": 5
}